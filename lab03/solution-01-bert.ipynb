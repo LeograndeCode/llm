{
 "cells": [
  {
   "cell_type": "markdown",
   "metadata": {},
   "source": [
    "# Encoder-only architecture - BERT "
   ]
  },
  {
   "cell_type": "markdown",
   "metadata": {},
   "source": [
    "## 1. Introduction"
   ]
  },
  {
   "cell_type": "markdown",
   "metadata": {},
   "source": [
    "This notebook will walk through the basics of the BERT architecture, how its tokenizer works, and how positional encoding is applied. \n",
    "\n",
    "BERT (Bidirectional Encoder Representations from Transformers) is a transformer-based model designed for NLP tasks. It has multiple layers of encoders, each containing:\n",
    "- Self-attention mechanism\n",
    "- Feed-forward neural networks\n",
    "- Layer normalization and residual connections\n",
    "\n",
    "We'll start by visualizing the structure of BERT's encoders."
   ]
  },
  {
   "cell_type": "code",
   "execution_count": 81,
   "metadata": {},
   "outputs": [
    {
     "name": "stdout",
     "output_type": "stream",
     "text": [
      "BertModel(\n",
      "  (embeddings): BertEmbeddings(\n",
      "    (word_embeddings): Embedding(30522, 768, padding_idx=0)\n",
      "    (position_embeddings): Embedding(512, 768)\n",
      "    (token_type_embeddings): Embedding(2, 768)\n",
      "    (LayerNorm): LayerNorm((768,), eps=1e-12, elementwise_affine=True)\n",
      "    (dropout): Dropout(p=0.1, inplace=False)\n",
      "  )\n",
      "  (encoder): BertEncoder(\n",
      "    (layer): ModuleList(\n",
      "      (0-11): 12 x BertLayer(\n",
      "        (attention): BertAttention(\n",
      "          (self): BertSdpaSelfAttention(\n",
      "            (query): Linear(in_features=768, out_features=768, bias=True)\n",
      "            (key): Linear(in_features=768, out_features=768, bias=True)\n",
      "            (value): Linear(in_features=768, out_features=768, bias=True)\n",
      "            (dropout): Dropout(p=0.1, inplace=False)\n",
      "          )\n",
      "          (output): BertSelfOutput(\n",
      "            (dense): Linear(in_features=768, out_features=768, bias=True)\n",
      "            (LayerNorm): LayerNorm((768,), eps=1e-12, elementwise_affine=True)\n",
      "            (dropout): Dropout(p=0.1, inplace=False)\n",
      "          )\n",
      "        )\n",
      "        (intermediate): BertIntermediate(\n",
      "          (dense): Linear(in_features=768, out_features=3072, bias=True)\n",
      "          (intermediate_act_fn): GELUActivation()\n",
      "        )\n",
      "        (output): BertOutput(\n",
      "          (dense): Linear(in_features=3072, out_features=768, bias=True)\n",
      "          (LayerNorm): LayerNorm((768,), eps=1e-12, elementwise_affine=True)\n",
      "          (dropout): Dropout(p=0.1, inplace=False)\n",
      "        )\n",
      "      )\n",
      "    )\n",
      "  )\n",
      "  (pooler): BertPooler(\n",
      "    (dense): Linear(in_features=768, out_features=768, bias=True)\n",
      "    (activation): Tanh()\n",
      "  )\n",
      ")\n"
     ]
    }
   ],
   "source": [
    "from transformers import BertModel, BertTokenizer\n",
    "import torch\n",
    "import matplotlib.pyplot as plt\n",
    "\n",
    "# Load pre-trained BERT model\n",
    "model = BertModel.from_pretrained('bert-base-uncased')\n",
    "print(model)"
   ]
  },
  {
   "cell_type": "markdown",
   "metadata": {},
   "source": [
    "### 1. **Embeddings Layer**\n",
    "The embeddings layer is responsible for creating representations of the input tokens. It includes:\n",
    "\n",
    "- **Word Embeddings**: Maps each of the 30,522 vocabulary tokens to a 768-dimensional vector.\n",
    "- **Position Embeddings**: Adds positional information to each token using a 512-length sequence of 768-dimensional vectors.\n",
    "- **Token Type Embeddings**: Adds embeddings to distinguish between segments (e.g., Sentence A and Sentence B) with 2 different token types.\n",
    "- **Layer Normalization and Dropout**: Normalizes the embeddings and applies dropout to prevent overfitting.\n",
    "\n",
    "### 2. **BERT Encoder**\n",
    "BERT's encoder is composed of 12 identical layers (for BERT-base, 24 for BERT-large), each called a **BERT Layer**. Each BERT layer consists of the following components:\n",
    "\n",
    "- **Self-Attention**:\n",
    "  - The self-attention mechanism is divided into multiple heads, each computing its own attention scores using three linear projections: Query (`Q`), Key (`K`), and Value (`V`). \n",
    "\n",
    "- **Self-Attention Output**:\n",
    "  - The output of the self-attention mechanism is passed through a dense (linear) layer that projects the output back to the original dimension of 768.\n",
    "\n",
    "- **Feed-Forward Neural Network**:\n",
    "  - Each BERT layer includes a position-wise feed-forward network that processes each token independently after the self-attention mechanism.\n",
    "  - The feed-forward network consists of two dense layers:\n",
    "    - The **intermediate layer** expands the dimensionality from 768 to 3072 using a linear transformation and applies a **GELU** (Gaussian Error Linear Unit) activation function for non-linearity.\n",
    "    - The **output layer** projects the 3072-dimensional vector back down to 768 dimensions, matching the input size.\n",
    "\n",
    "- **Residual Connections**:\n",
    "  - BERT uses residual (skip) connections around the self-attention and feed-forward components. The input to each sub-layer is added to its output. "
   ]
  },
  {
   "cell_type": "markdown",
   "metadata": {},
   "source": [
    "### **BERT Tokenization with WordPiece**\n",
    "\n",
    "BERT uses a **WordPiece tokenizer**, a subword tokenization technique. This tokenizer splits words into smaller subwords or tokens, allowing BERT to represent rare words as combinations of common subwords and prefixes.\n",
    "\n",
    "#### **How WordPiece Works**\n",
    "\n",
    "The WordPiece tokenizer splits a word based on its frequency in the training data:\n",
    "- **Common Words**: If a word is frequently used in the training corpus, it will likely be stored as a single token. For example, words like \"hello\" or \"sentence\" are common enough to exist in BERT's vocabulary as single tokens.\n",
    "- **Rare or Unknown Words**: For less common or out-of-vocabulary words, the tokenizer will break them into subword units or prefixes. These subwords are often combined with a special prefix `##` to indicate they are part of a larger word. \n",
    "\n",
    "Let’s see how the WordPiece tokenizer processes a sample sentence using BERT’s tokenizer.\n"
   ]
  },
  {
   "cell_type": "code",
   "execution_count": 4,
   "metadata": {},
   "outputs": [
    {
     "name": "stdout",
     "output_type": "stream",
     "text": [
      "Tokens: ['hello', ',', 'this', 'is', 'a', 'sentence', '!']\n",
      "Token IDs: [7592, 1010, 2023, 2003, 1037, 6251, 999]\n"
     ]
    }
   ],
   "source": [
    "# Load pre-trained tokenizer\n",
    "tokenizer = BertTokenizer.from_pretrained('bert-base-uncased')\n",
    "\n",
    "sentence = \"hello, this is a sentence!\"\n",
    "\n",
    "# Tokenize the sentence\n",
    "tokens = tokenizer.tokenize(sentence)\n",
    "print(\"Tokens:\", tokens)\n",
    "\n",
    "# Convert tokens to IDs\n",
    "token_ids = tokenizer.convert_tokens_to_ids(tokens)\n",
    "print(\"Token IDs:\", token_ids)"
   ]
  },
  {
   "cell_type": "code",
   "execution_count": 7,
   "metadata": {},
   "outputs": [
    {
     "name": "stdout",
     "output_type": "stream",
     "text": [
      "Tokens: ['hello', ',', 'this', 'sentence', 'is', 'too', 'cum', '##bers', '##ome', '!']\n",
      "Token IDs: [7592, 1010, 2023, 6251, 2003, 2205, 13988, 17198, 8462, 999]\n"
     ]
    }
   ],
   "source": [
    "sentence = \"This sentence is too cumbersome!\"\n",
    "\n",
    "# Tokenize the sentence\n",
    "tokens = tokenizer.tokenize(sentence)\n",
    "print(\"Tokens:\", tokens)\n",
    "\n",
    "# Convert tokens to IDs\n",
    "token_ids = tokenizer.convert_tokens_to_ids(tokens)\n",
    "print(\"Token IDs:\", token_ids)"
   ]
  },
  {
   "cell_type": "markdown",
   "metadata": {},
   "source": [
    "### Special Tokens in BERT\n",
    "\n",
    "BERT uses several special tokens to structure the input and help the model understand the context and relationships between sequences. These tokens play an important role in various NLP tasks such as sentence classification, next sentence prediction, and more.\n",
    "\n",
    "#### 1. **[CLS] Token** (Classification Token)\n",
    "- The `[CLS]` token is added at the beginning of every input sequence. \n",
    "- BERT uses this token as a representation of the entire sequence. The hidden state of the `[CLS]` token after passing through BERT can be used for classification tasks (we are going to use it later!).\n",
    "\n",
    "#### 2. **[PAD] Token** (Padding Token)\n",
    "- The `[PAD]` token is used to pad sequences so they all have the same length within a batch. The attention mechanism then ignores these `[PAD]` tokens."
   ]
  },
  {
   "cell_type": "code",
   "execution_count": 6,
   "metadata": {},
   "outputs": [
    {
     "name": "stdout",
     "output_type": "stream",
     "text": [
      "Single Sentence Tokenization:\n",
      "Tokens: ['[CLS]', 'this', 'is', 'a', 'short', 'sentence', '.', '[SEP]', '[PAD]', '[PAD]']\n",
      "Input IDs: tensor([ 101, 2023, 2003, 1037, 2460, 6251, 1012,  102,    0,    0])\n"
     ]
    }
   ],
   "source": [
    "sentence1 = \"This is a short sentence.\"\n",
    "tokens_single = tokenizer(sentence1, return_tensors='pt', padding='max_length', max_length=10)\n",
    "\n",
    "# Display tokenized output and input IDs\n",
    "print(\"Single Sentence Tokenization:\")\n",
    "print(\"Tokens:\", tokenizer.convert_ids_to_tokens(tokens_single['input_ids'][0]))\n",
    "print(\"Input IDs:\", tokens_single['input_ids'][0])"
   ]
  },
  {
   "cell_type": "markdown",
   "metadata": {},
   "source": [
    "#### 3. **[SEP] Token** (Separator Token)\n",
    "- The `[SEP]` token is used to separate segments (sentences) in BERT's input.\n",
    "- It is especially important for tasks like Next Sentence Prediction (NSP) where BERT needs to understand the relationship between two sentences.\n",
    "- It is also added at the end of the sequence to indicate its termination."
   ]
  },
  {
   "cell_type": "code",
   "execution_count": 7,
   "metadata": {},
   "outputs": [
    {
     "name": "stdout",
     "output_type": "stream",
     "text": [
      "\n",
      "Two Sentences Tokenization:\n",
      "Tokens: ['[CLS]', 'this', 'is', 'a', 'short', 'sentence', '.', '[SEP]', 'but', 'now', 'it', 'is', 'a', 'little', 'longer', '.', '[SEP]', '[PAD]', '[PAD]', '[PAD]']\n",
      "Input IDs: tensor([ 101, 2023, 2003, 1037, 2460, 6251, 1012,  102, 2021, 2085, 2009, 2003,\n",
      "        1037, 2210, 2936, 1012,  102,    0,    0,    0])\n"
     ]
    }
   ],
   "source": [
    "sentence2 = \"But now it is a little longer.\"\n",
    "tokens_pair = tokenizer(sentence1, sentence2, return_tensors='pt', padding='max_length', max_length=20)\n",
    "\n",
    "# Display tokenized output and input IDs\n",
    "print(\"\\nTwo Sentences Tokenization:\")\n",
    "print(\"Tokens:\", tokenizer.convert_ids_to_tokens(tokens_pair['input_ids'][0]))\n",
    "print(\"Input IDs:\", tokens_pair['input_ids'][0])"
   ]
  },
  {
   "cell_type": "markdown",
   "metadata": {},
   "source": [
    "#### 4. **[MASK] Token**\n",
    "- The `[MASK]` token is used during training for the Masked Language Modeling (MLM) task, where a percentage of tokens are masked and the model must predict them based on the context.\n",
    "- This token is rarely used during inference but is crucial in pre-training BERT."
   ]
  },
  {
   "cell_type": "code",
   "execution_count": 19,
   "metadata": {},
   "outputs": [
    {
     "name": "stdout",
     "output_type": "stream",
     "text": [
      "Tokens: ['[CLS]', 'i', 'do', 'not', 'know', 'how', 'the', 'sentence', 'will', '[MASK]', '.', '[SEP]']\n"
     ]
    }
   ],
   "source": [
    "# show a mask token \n",
    "mask_token = tokenizer.mask_token \n",
    "mask_token_id = tokenizer.convert_tokens_to_ids(mask_token)\n",
    "\n",
    "# Encode a text\n",
    "text = \"I do not know how the sentence will end.\"\n",
    "encoded_input = tokenizer(text, return_tensors='pt')\n",
    "\n",
    "mask_position = 9\n",
    "encoded_input['input_ids'][0, mask_position] = mask_token_id\n",
    "\n",
    "print(\"Tokens:\", tokenizer.convert_ids_to_tokens(encoded_input['input_ids'][0]))"
   ]
  },
  {
   "cell_type": "markdown",
   "metadata": {},
   "source": [
    "### Positional Encodings in Transformers\n",
    "\n",
    "There are two common approaches for implementing positional encodings:\n",
    "\n",
    "#### 1. **Static Sinusoidal Positional Encodings**\n",
    "\n",
    "- The one that we already saw in the previous laboratory. \n",
    "- **Advantages**:\n",
    "  - This method requires no additional parameters or learning during training.\n",
    "  - The same encoding can be applied across sequences of any length without adjustment.\n",
    "- **Disadvantages**:\n",
    "  - Since these encodings are static, they might not be as flexible or as specific as learned positional embeddings, which can adapt better to the data.\n",
    "\n",
    "#### 2. **Learned Positional Embeddings**\n",
    "\n",
    "- Instead of using a fixed, pre-defined encoding, learned positional embeddings are trained as part of the model, similar to how word embeddings are learned.\n",
    "- The model learns a set of positional vectors, where each vector corresponds to a position in the sequence (e.g., position 0, position 1, etc.). \n",
    "- **Advantages**:\n",
    "  - The model can change positional encodings to the data it is trained on, potentially capturing positional relationships more effectively.\n",
    "- **Disadvantages**:\n",
    "  - Learned positional embeddings introduce additional parameters, which increases the model size and training complexity.\n",
    "  - The learned embeddings are limited to a maximum sequence length (e.g., 512 for BERT).\n",
    "\n",
    "BERT uses the second approach: **learned positional embeddings**. During the training process, BERT learns a set of positional vectors corresponding to token positions up to a maximum length (typically 512). These embeddings are added to the token embeddings to provide position information.\n"
   ]
  },
  {
   "cell_type": "code",
   "execution_count": 2,
   "metadata": {},
   "outputs": [
    {
     "data": {
      "image/png": "[encoded data removed]",
      "text/plain": [
       "<Figure size 1000x600 with 2 Axes>"
      ]
     },
     "metadata": {},
     "output_type": "display_data"
    }
   ],
   "source": [
    "from transformers import BertModel, BertTokenizer\n",
    "import torch\n",
    "import matplotlib.pyplot as plt\n",
    "import seaborn as sns\n",
    "\n",
    "# Example sentence\n",
    "sentence = \"hello, this is a sentence!\"\n",
    "\n",
    "# Tokenize the sentence and get input IDs\n",
    "inputs = tokenizer(sentence, return_tensors='pt')\n",
    "input_ids = inputs['input_ids']\n",
    "\n",
    "# Get the learned positional encodings from the BERT model\n",
    "positional_encodings = model.embeddings.position_embeddings.weight.detach().cpu()\n",
    "\n",
    "# Extract the positional encodings for the tokens in the sentence\n",
    "sentence_length = input_ids.shape[1]\n",
    "sentence_positional_encodings = positional_encodings[:sentence_length]\n",
    "\n",
    "# Convert to numpy for easier manipulation\n",
    "sentence_positional_encodings = sentence_positional_encodings.numpy()\n",
    "\n",
    "# Plot the positional encodings for the sentence\n",
    "plt.figure(figsize=(10, 6))\n",
    "sns.heatmap(sentence_positional_encodings.T, cmap='viridis', cbar=True)\n",
    "plt.xlabel('Token Position')\n",
    "plt.ylabel('Embedding Dimensions')\n",
    "plt.title('Learned Positional Encodings for a Single Sentence in BERT')\n",
    "plt.show()\n"
   ]
  },
  {
   "cell_type": "code",
   "execution_count": 13,
   "metadata": {},
   "outputs": [
    {
     "data": {
      "text/plain": [
       "(512, 768)"
      ]
     },
     "execution_count": 13,
     "metadata": {},
     "output_type": "execute_result"
    }
   ],
   "source": [
    "positional_encodings.shape"
   ]
  },
  {
   "cell_type": "markdown",
   "metadata": {},
   "source": [
    "## 2. BERT Pre-Training Tasks"
   ]
  },
  {
   "cell_type": "markdown",
   "metadata": {},
   "source": [
    "BERT is pre-trained using two primary tasks: **Masked Language Modeling (MLM)** and **Next Sentence Prediction (NSP)**. \n",
    "\n",
    "#### 1. **Masked Language Modeling (MLM)**\n",
    "\n",
    "- In the MLM task, a token is replaced with the special `[MASK]` token and the model then tries to predict the original token based on the surrounding context. \n",
    "- BERT learns to understand the context and fill in the blanks, which helps it develop contextualized embeddings for each word. \n",
    "\n",
    "#### 2. **Next Sentence Prediction (NSP)**\n",
    "\n",
    "- In addition to MLM, BERT is trained to predict whether one sentence logically follows another. This is called the **Next Sentence Prediction (NSP)** task.\n",
    "- BERT takes two sentences (or segments) as input and must determine if the second sentence is a continuation of the first.\n"
   ]
  },
  {
   "cell_type": "code",
   "execution_count": 67,
   "metadata": {},
   "outputs": [
    {
     "name": "stderr",
     "output_type": "stream",
     "text": [
      "Some weights of the model checkpoint at bert-base-uncased were not used when initializing BertForMaskedLM: ['bert.pooler.dense.bias', 'bert.pooler.dense.weight', 'cls.seq_relationship.bias', 'cls.seq_relationship.weight']\n",
      "- This IS expected if you are initializing BertForMaskedLM from the checkpoint of a model trained on another task or with another architecture (e.g. initializing a BertForSequenceClassification model from a BertForPreTraining model).\n",
      "- This IS NOT expected if you are initializing BertForMaskedLM from the checkpoint of a model that you expect to be exactly identical (initializing a BertForSequenceClassification model from a BertForSequenceClassification model).\n"
     ]
    },
    {
     "name": "stdout",
     "output_type": "stream",
     "text": [
      "\n",
      "Masked Language Modeling:\n",
      "Input tokens: ['[CLS]', 'i', 'want', 'to', 'eat', 'a', '[MASK]', '.', '[SEP]']\n",
      "\n",
      "Top 5 Predictions:\n",
      "Token: little, Probability: 10.2418\n",
      "Token: bite, Probability: 9.8704\n",
      "Token: burger, Probability: 9.0154\n",
      "Token: lot, Probability: 8.9455\n",
      "Token: sandwich, Probability: 8.6518\n"
     ]
    }
   ],
   "source": [
    "from transformers import BertForMaskedLM, BertForNextSentencePrediction\n",
    "import torch\n",
    "\n",
    "# Load pre-trained BERT model and tokenizer\n",
    "model_mlm = BertForMaskedLM.from_pretrained('bert-base-uncased')\n",
    "\n",
    "sentence = \"I want to eat a [MASK].\"\n",
    "inputs = tokenizer(sentence, return_tensors='pt')\n",
    "\n",
    "with torch.no_grad():\n",
    "    outputs = model_mlm(**inputs)\n",
    "    predictions = outputs.logits\n",
    "\n",
    "masked_index = (inputs['input_ids'] == tokenizer.mask_token_id).nonzero(as_tuple=True)[1]\n",
    "top_k = 5\n",
    "top_k_probabilities, top_k_indices = torch.topk(predictions[0, masked_index, :], top_k, dim=-1)\n",
    "\n",
    "top_k_probabilities = top_k_probabilities.squeeze().tolist()\n",
    "top_k_indices = top_k_indices.squeeze().tolist()\n",
    "\n",
    "top_k_tokens = [tokenizer.decode([idx]) for idx in top_k_indices]\n",
    "\n",
    "print(\"\\nMasked Language Modeling:\")\n",
    "print(\"Input tokens:\", tokenizer.convert_ids_to_tokens(inputs['input_ids'][0]))\n",
    "print(\"\\nTop 5 Predictions:\")\n",
    "for token, prob in zip(top_k_tokens, top_k_probabilities):\n",
    "    print(f\"Token: {token}, Probability: {prob:.4f}\")"
   ]
  },
  {
   "cell_type": "code",
   "execution_count": 76,
   "metadata": {},
   "outputs": [
    {
     "name": "stdout",
     "output_type": "stream",
     "text": [
      "Tokens: ['[CLS]', 'sherlock', 'holmes', 'is', 'my', 'favorite', 'detective', '[SEP]', 'i', 'read', 'all', 'the', 'books', 'about', 'him', '!', '.', '[SEP]']\n",
      "Prediction: True\n"
     ]
    }
   ],
   "source": [
    "model_nsp = BertForNextSentencePrediction.from_pretrained('bert-base-uncased')\n",
    "\n",
    "sentence_a = \"Sherlock Holmes is my favorite detective\"\n",
    "sentence_b = \"I read all the books about him!\"\n",
    "inputs_nsp = tokenizer(sentence_a, sentence_b, return_tensors='pt')\n",
    "\n",
    "print(\"Tokens:\", tokenizer.convert_ids_to_tokens(inputs_nsp['input_ids'][0]))\n",
    "\n",
    "# Get NSP predictions\n",
    "with torch.no_grad():\n",
    "    outputs_nsp = model_nsp(**inputs_nsp)\n",
    "    logits = outputs_nsp.logits\n",
    "    nsp_prediction = torch.argmax(logits).item()\n",
    "\n",
    "nsp_label = \"True\" if nsp_prediction == 0 else \"False\"\n",
    "print(f\"Prediction: {nsp_label}\")"
   ]
  },
  {
   "cell_type": "code",
   "execution_count": 77,
   "metadata": {},
   "outputs": [
    {
     "name": "stdout",
     "output_type": "stream",
     "text": [
      "Tokens: ['[CLS]', 'sherlock', 'holmes', 'is', 'my', 'favorite', 'detective', '[SEP]', 'the', 'stock', 'market', 'saw', 'a', 'significant', 'increase', 'yesterday', ',', 'surprising', 'many', 'investors', '.', '[SEP]']\n",
      "Prediction: False\n"
     ]
    }
   ],
   "source": [
    "sentence_c = \"The stock market saw a significant increase yesterday, surprising many investors.\"\n",
    "inputs_nsp_false = tokenizer(sentence_a, sentence_c, return_tensors='pt')\n",
    "\n",
    "print(\"Tokens:\", tokenizer.convert_ids_to_tokens(inputs_nsp_false['input_ids'][0]))\n",
    "\n",
    "# Get NSP predictions\n",
    "with torch.no_grad():\n",
    "    outputs_nsp_false = model_nsp(**inputs_nsp_false)\n",
    "    logits_false = outputs_nsp_false.logits\n",
    "    nsp_prediction_false = torch.argmax(logits_false).item()\n",
    "\n",
    "nsp_label_false = \"True\" if nsp_prediction_false == 0 else \"False\"\n",
    "print(f\"Prediction: {nsp_label_false}\")"
   ]
  },
  {
   "cell_type": "markdown",
   "metadata": {},
   "source": [
    "In this step, we define a sample text that we will use for sentiment analysis **TODO**\n",
    "\n",
    "The tokenizer is then used to process the input text. The `tokenizer` converts the raw sentence into a format that the model can understand by breaking it down into tokens and converting them into numerical IDs. In this case, the method `tokenizer(text, return_tensors=\"pt\", padding=True, truncation=True)` ensures that the output is in the correct tensor format (`return_tensors=\"pt\"` for PyTorch), applies padding to ensure consistent input length across batches, and truncates the text if it exceeds the model's maximum sequence length. The output includes both **input IDs**, which are the tokenized numerical representations of the words, and an **attention mask**, which indicates which tokens should be attended to (where `1` signifies real tokens and `0` marks padding tokens). \n",
    "\n",
    "This ensures that only the relevant tokens are processed by the model, with the attention mask ignoring any padding that may have been added. By printing both the token IDs and the attention mask, we can inspect how the text has been prepared for model inference."
   ]
  },
  {
   "cell_type": "code",
   "execution_count": 78,
   "metadata": {},
   "outputs": [
    {
     "name": "stdout",
     "output_type": "stream",
     "text": [
      "Tokens: tensor([[ 101, 1996, 3899, 8823, 1996, 2833, 2138, 2009, 2001, 7501,  102]])\n",
      "Attention Mask: tensor([[1, 1, 1, 1, 1, 1, 1, 1, 1, 1, 1]])\n"
     ]
    }
   ],
   "source": [
    "# Define a sample text for sentiment analysis\n",
    "text = \"The dog ate the food because it was hungry\"\n",
    "\n",
    "# Tokenize the input text\n",
    "inputs = tokenizer(text, return_tensors=\"pt\", padding=True, truncation=True)\n",
    "\n",
    "# Print the tokens\n",
    "print(\"Tokens:\", inputs[\"input_ids\"])\n",
    "print(\"Attention Mask:\", inputs[\"attention_mask\"])"
   ]
  },
  {
   "cell_type": "markdown",
   "metadata": {},
   "source": [
    "## 3. Encoder Attention Mechanism"
   ]
  },
  {
   "cell_type": "markdown",
   "metadata": {},
   "source": [
    "The attention mechanism is a crucial component of BERT’s encoder architecture. It allows the model to weigh the importance of each token in a sequence relative to all other tokens from both the left and right sides, making it **bidirectional**.\n",
    "\n",
    "#### 1. **Self-Attention Mechanism**\n",
    "- In BERT, each token in a sequence attends to all other tokens, including itself. This is known as **self-attention**. The goal is to understand the relationship and relevance of each token within the entire sequence.\n",
    "- The attention mechanism allows BERT to dynamically weigh the relevance of each word in the context of the entire sequence. This helps BERT generate contextualized word representations that take into account the entire sentence.\n"
   ]
  },
  {
   "cell_type": "code",
   "execution_count": 91,
   "metadata": {},
   "outputs": [
    {
     "data": {
      "image/png": "[encoded data removed]",
      "text/plain": [
       "<Figure size 1200x800 with 2 Axes>"
      ]
     },
     "metadata": {},
     "output_type": "display_data"
    }
   ],
   "source": [
    "from transformers import BertModel, BertTokenizer\n",
    "import torch\n",
    "import matplotlib.pyplot as plt\n",
    "import seaborn as sns\n",
    "import numpy as np\n",
    "\n",
    "model = BertModel.from_pretrained('bert-base-uncased', output_attentions=True)\n",
    "\n",
    "sentence = \"The stock market saw a significant increase yesterday\"\n",
    "\n",
    "inputs = tokenizer(sentence, return_tensors='pt')\n",
    "\n",
    "outputs = model(**inputs)\n",
    "attention = outputs.attentions  # This returns a list of attention matrices\n",
    "\n",
    "# Select the attention from the last layer and the first attention head\n",
    "attention_layer = attention[-1]  # Last layer\n",
    "attention_head = attention_layer[0, 0].detach().numpy()  # First batch and first head\n",
    "\n",
    "# Get the tokens for the sentence\n",
    "tokens = tokenizer.convert_ids_to_tokens(inputs['input_ids'][0])\n",
    "\n",
    "# Plot the attention weights\n",
    "plt.figure(figsize=(12, 8))\n",
    "sns.heatmap(attention_head, xticklabels=tokens, yticklabels=tokens, cmap='viridis')\n",
    "plt.xlabel('Attention To')\n",
    "plt.ylabel('Attention From')\n",
    "plt.title('Self-Attention Weights (Last Layer, First Head)')\n",
    "plt.show()"
   ]
  },
  {
   "cell_type": "markdown",
   "metadata": {},
   "source": [
    "## 4. BERT Fine-Tuning"
   ]
  },
  {
   "cell_type": "markdown",
   "metadata": {},
   "source": [
    "In this step, we pass the tokenized input (which includes the attention mask) to the model for inference. The input is fed into the model using `model(**inputs)`, which performs forward propagation to generate the output. The model’s output contains multiple components, but in this case, we are specifically interested in the **logits**, which are the raw, unnormalized predictions made by the BERT model.\n",
    "\n",
    "The **logits** represent the model's confidence in each class (for example, sentiment categories such as Negative, Neutral, and Positive) before applying any normalization. However, since the model hasn't been fine-tuned for a specific task yet, these logits won’t provide meaningful or reliable predictions at this point. \n",
    "\n",
    "For now, the output doesn't hold significant meaning, but this will be explored in detail in the next lab when we fine-tune the model for specific tasks. **For today's lab, we will limit ourselves to inference only in order to assess the attention weights of the model**. "
   ]
  },
  {
   "cell_type": "code",
   "execution_count": 82,
   "metadata": {},
   "outputs": [
    {
     "ename": "AttributeError",
     "evalue": "'BaseModelOutputWithPoolingAndCrossAttentions' object has no attribute 'logits'",
     "output_type": "error",
     "traceback": [
      "\u001b[0;31m---------------------------------------------------------------------------\u001b[0m",
      "\u001b[0;31mAttributeError\u001b[0m                            Traceback (most recent call last)",
      "Cell \u001b[0;32mIn[82], line 7\u001b[0m\n\u001b[1;32m      4\u001b[0m outputs \u001b[38;5;241m=\u001b[39m model(\u001b[38;5;241m*\u001b[39m\u001b[38;5;241m*\u001b[39minputs)\n\u001b[1;32m      6\u001b[0m \u001b[38;5;66;03m# Extract the logits (raw predictions) from the model output\u001b[39;00m\n\u001b[0;32m----> 7\u001b[0m logits \u001b[38;5;241m=\u001b[39m \u001b[43moutputs\u001b[49m\u001b[38;5;241;43m.\u001b[39;49m\u001b[43mlogits\u001b[49m\n\u001b[1;32m      9\u001b[0m \u001b[38;5;66;03m# Apply softmax to get the predicted probabilities\u001b[39;00m\n\u001b[1;32m     10\u001b[0m probs \u001b[38;5;241m=\u001b[39m torch\u001b[38;5;241m.\u001b[39mnn\u001b[38;5;241m.\u001b[39mfunctional\u001b[38;5;241m.\u001b[39msoftmax(logits, dim\u001b[38;5;241m=\u001b[39m\u001b[38;5;241m-\u001b[39m\u001b[38;5;241m1\u001b[39m)\n",
      "\u001b[0;31mAttributeError\u001b[0m: 'BaseModelOutputWithPoolingAndCrossAttentions' object has no attribute 'logits'"
     ]
    }
   ],
   "source": [
    "model = BertModel.from_pretrained('bert-base-uncased')\n",
    "\n",
    "# Pass the tokenized input (including attention mask) to the model\n",
    "outputs = model(**inputs)\n",
    "\n",
    "# Extract the logits (raw predictions) from the model output\n",
    "logits = outputs.logits\n",
    "\n",
    "# Apply softmax to get the predicted probabilities\n",
    "probs = torch.nn.functional.softmax(logits, dim=-1)\n",
    "\n",
    "# Print the predicted probabilities for each sentiment class\n",
    "print(\"Softmax probabilities:\", probs)"
   ]
  },
  {
   "cell_type": "markdown",
   "metadata": {},
   "source": [
    "In this step, we focus on extracting and examining the **attention weights** produced by the model during inference. Attention weights provide insights into how the model distributes its focus across different tokens in the input sequence. By examining these weights, we can understand which words the model considers important when making predictions, especially in tasks like coreference resolution or sentiment analysis.\n",
    "\n",
    "First, we extract the attention weights from the model’s output by accessing the `outputs.attentions` attribute. These attention weights are generated by the self-attention mechanism in transformer models like RoBERTa. Self-attention allows each token in the sequence to \"attend\" to other tokens, meaning it learns how much focus should be placed on surrounding words. This is crucial for capturing contextual relationships between words in a sentence.\n",
    "\n",
    "Next, we print out the **number of attention layers** in the model using `len(attentions)`. Transformer models typically have multiple layers, each containing its own set of attention heads. For instance, BERT and RoBERTa base models generally have 12 layers, each of which processes the input tokens with attention mechanisms to refine the model's understanding of the sentence structure.\n",
    "\n",
    "We also print the **shape of the attention weights** from the first layer with `attentions[0].shape`. This shape reveals key information about how the attention is structured:\n",
    "- The first dimension represents the **batch size** (usually 1 in this case, as we are processing one sentence).\n",
    "- The second dimension corresponds to the **number of attention heads** in that layer, which are independent mechanisms that attend to different parts of the input.\n",
    "- The third and fourth dimensions both represent the **sequence length**, meaning how many tokens are in the input. Each token in the sequence attends to every other token, resulting in an attention matrix where every token has a score representing its attention to all other tokens.\n",
    "\n",
    "By printing the shape of the attention weights, we get a clear understanding of the structure of the attention mechanism across different layers, heads, and tokens. This sets the foundation for visualizing or further analyzing how the model attends to specific words or entities in the input text.\n"
   ]
  },
  {
   "cell_type": "code",
   "execution_count": null,
   "metadata": {},
   "outputs": [],
   "source": [
    "# Extract the attention weights from the output\n",
    "attentions = outputs.attentions\n",
    "\n",
    "# Print the attention weights shape\n",
    "print(f\"Number of attention layers: {len(attentions)}\")\n",
    "print(f\"Shape of attention weights in the first layer: {attentions[0].shape}\")"
   ]
  },
  {
   "cell_type": "markdown",
   "metadata": {},
   "source": [
    "In this section, we use **Matplotlib** and **Seaborn** to visualize the attention weights extracted from the first attention head of the first layer in the transformer model. Visualizing attention weights allows us to better understand how the model distributes focus across the tokens in a sequence, showing which tokens \"attend\" to each other.\n",
    "\n",
    "We create a **heatmap** to visualize the attention weights using **Seaborn’s** `heatmap()` function. A heatmap is an intuitive way to display how much attention each token pays to every other token in the sequence. The heatmap shows the attention matrix, where each row represents a token and each column represents how much attention that token places on other tokens. Darker shades indicate higher attention scores.\n",
    "\n",
    "By visualizing the attention matrix, we can observe the relationships between tokens in the input sentence, such as whether certain words attend heavily to specific other words, providing insights into how the model understands the sentence contextually.\n"
   ]
  },
  {
   "cell_type": "code",
   "execution_count": null,
   "metadata": {},
   "outputs": [],
   "source": [
    "import matplotlib.pyplot as plt\n",
    "import seaborn as sns\n",
    "import numpy as np\n",
    "\n",
    "# Convert attention weights to numpy array (taking the first attention head from the first layer)\n",
    "attention_layer_1 = attentions[0][0, 0].detach().numpy()\n",
    "\n",
    "# Plot the attention weights for the first layer, first attention head\n",
    "plt.figure(figsize=(8, 8))\n",
    "sns.heatmap(attention_layer_1, annot=False, cmap=\"Blues\", xticklabels=tokens, yticklabels=tokens)\n",
    "plt.xlabel(\"Attention to Token\")\n",
    "plt.ylabel(\"Token\")\n",
    "plt.title(\"Attention Weights - Layer 1, Head 1\")\n",
    "plt.show()\n"
   ]
  }
 ],
 "metadata": {
  "kernelspec": {
   "display_name": "hf_env",
   "language": "python",
   "name": "python3"
  },
  "language_info": {
   "codemirror_mode": {
    "name": "ipython",
    "version": 3
   },
   "file_extension": ".py",
   "mimetype": "text/x-python",
   "name": "python",
   "nbconvert_exporter": "python",
   "pygments_lexer": "ipython3",
   "version": "3.12.4"
  }
 },
 "nbformat": 4,
 "nbformat_minor": 2
}
