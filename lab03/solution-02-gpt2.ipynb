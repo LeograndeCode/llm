{
 "cells": [
  {
   "cell_type": "markdown",
   "metadata": {},
   "source": [
    "## Decoder-only architecture - GPT2"
   ]
  },
  {
   "cell_type": "markdown",
   "metadata": {},
   "source": [
    "## 1. Introduction"
   ]
  },
  {
   "cell_type": "markdown",
   "metadata": {},
   "source": [
    "For this lab, we will focus on **decoder-only models**, particularly **GPT-2** (Generative Pre-trained Transformer 2), a model designed for text generation.\n",
    "\n",
    "#### **Decoder-Only Models**\n",
    "Decoder-only models, like GPT-2, differ from encoder-decoder models in that they generate text in a **unidirectional (left-to-right)** manner. These models do not have an encoder to process the entire input at once. Instead, they use **autoregressive** generation, predicting the next token based on the preceding context.\n",
    "\n",
    "For the part of this lab, we will use `GPT2LMHeadModel`, a GPT-2 model with a language modeling head."
   ]
  },
  {
   "cell_type": "code",
   "execution_count": null,
   "metadata": {},
   "outputs": [],
   "source": [
    "from transformers import GPT2Tokenizer, GPT2LMHeadModel\n",
    "\n",
    "# Load GPT-2 tokenizer and model\n",
    "model_name = 'gpt2'  \n",
    "tokenizer = GPT2Tokenizer.from_pretrained(model_name)\n",
    "model = GPT2LMHeadModel.from_pretrained(model_name)\n",
    "\n",
    "model"
   ]
  },
  {
   "cell_type": "markdown",
   "metadata": {},
   "source": [
    "### 1. **Embeddings Layer**\n",
    "The embeddings layer creates initial representations of the input tokens, encoding both the meaning of the words and their positions within the sequence.\n",
    "\n",
    "- **Word Embeddings** (`wte`): Maps each of the 50,257 vocabulary tokens into a 768-dimensional vector space.\n",
    "- **Position Embeddings** (`wpe`): Adds positional information to the tokens using a learned embedding of size 1024 (representing the maximum sequence length) with 768 dimensions. This allows the model to understand the order of the tokens, as transformers do not have an inherent sense of position.\n",
    "\n",
    "### 2. **Transformer Block (Decoder)**\n",
    "The core of GPT-2 is composed of 12 identical **transformer blocks**, each consisting of several sub-components. These blocks are stacked to process the input text in a sequential, autoregressive manner.\n",
    "\n",
    "Each transformer block includes the following:\n",
    "\n",
    "- **Layer Normalization (ln_1, ln_2)**: Normalization is applied before both the attention mechanism and the feed-forward network to stabilize and speed up training. It ensures that the inputs to the layers have zero mean and unit variance, using learned parameters.\n",
    "\n",
    "- **Self-Attention Mechanism**\n",
    "\n",
    "  - **Self-Attention Mechanism (attn)**: GPT-2 uses masked self-attention to ensure that the model can only attend to tokens that have already been processed, preventing the model from \"seeing\" future tokens. This makes the model autoregressive.\n",
    "    \n",
    "    - **Query, Key, Value Projections**: The attention mechanism computes the **query (Q)**, **key (K)**, and **value (V)** vectors using **Conv1D layers** (`c_attn`).\n",
    "\n",
    "    - **Attention Output**: The output of the attention layer is passed through another **Conv1D layer** (`c_proj`) to project it back to the original 768-dimensional space.\n",
    "\n",
    "- **Feed-Forward Neural Network (mlp)**\n",
    "Each transformer block also contains a fully connected feed-forward neural network that processes the output of the attention mechanism. This is done in two stages:\n",
    "\n",
    "  - **First Linear Transformation (`c_fc`)**: Expands the dimensionality from 768 to a larger intermediate size using a **Conv1D layer**.\n",
    "    \n",
    "  - **Activation Function (`act`)**: Applies the **GELU (Gaussian Error Linear Unit)** activation function, which introduces non-linearity and helps the model capture complex patterns in the data.\n",
    "\n",
    "  - **Second Linear Transformation (`c_proj`)**: Projects the output back down from the intermediate size to 768 dimensions using another **Conv1D layer**.\n",
    "\n",
    "- **Residual Connections**\n",
    "  - GPT-2 uses skip connections around both the self-attention and feed-forward layers, where the input to each sub-layer is added to its output.\n",
    "\n",
    "### 3. **Final Layer Normalization and Language Modeling Head**\n",
    "- After passing through all 12 transformer blocks, a final **LayerNorm** (`ln_f`) is applied to normalize the output before it is passed to the language modeling head for token prediction.\n",
    "\n",
    "- The output of the final transformer block is passed through a **linear layer** (`lm_head`) which maps the 768-dimensional hidden states to the vocabulary size (50,257). This step is essential for converting the hidden representations into predictions for the next token in the sequence.\n"
   ]
  },
  {
   "cell_type": "code",
   "execution_count": null,
   "metadata": {},
   "outputs": [],
   "source": [
    "# Set the model to evaluation mode\n",
    "model.eval()\n",
    "\n",
    "# Define the input prompt\n",
    "prompt = \"I had called upon my friend, Mr. Sherlock Holmes, one day in the autumn of last year and found him in deep conversation with a very stout, florid-faced, elderly gentleman with fiery red hair.\"\n",
    "\n",
    "# Tokenize the input prompt\n",
    "input_ids = tokenizer.encode(prompt, return_tensors='pt')\n",
    "\n",
    "# Autoregressively generate tokens \n",
    "generated_ids = model.generate(input_ids, max_length=200, do_sample=True, temperature=1.1)\n",
    "\n",
    "# Decode and print the generated text\n",
    "generated_text = tokenizer.decode(generated_ids[0], skip_special_tokens=True)\n",
    "\n",
    "print(\"Generated Text:\")\n",
    "print(generated_text)"
   ]
  },
  {
   "cell_type": "markdown",
   "metadata": {},
   "source": [
    "## 2. Decoder (Masked) Self-Attention Mechanism"
   ]
  },
  {
   "cell_type": "markdown",
   "metadata": {},
   "source": [
    "In this exercise, we will focus on the **masked self-attention mechanism** used in the decoder blocks of GPT-2. This mechanism allows the model to attend to previous tokens in an autoregressive manner, ensuring that the model generates text sequentially from left to right without looking ahead to future tokens.\n",
    "\n",
    "A plot of the **self-attention matrix** for a single decoder block in GPT-2 is shown below. The matrix represents the attention weights between different tokens in the input sequence. The **x-axis** and **y-axis** correspond to the tokens in the input sequence. Each position on these axes represents a specific token in the input text.\n",
    "  \n",
    "#### **Masked Self-Attention Behavior:**\n",
    "- As expected in a **decoder-only** model, we observe a clear triangular pattern. Tokens only attend to themselves and the tokens that precede them. For example, the first token (`I`) only attends to itself, the second token (`love`) attends to both itself and the first token, and so on.\n",
    "- The upper-right part of the matrix is empty (dark purple), indicating that the model **masks future tokens** to prevent them from being used in generating the current token. This ensures that GPT-2 maintains its **autoregressive property**, where each token is generated based only on past tokens.\n",
    "\n",
    "- In the image, you can see that certain tokens attend more strongly to previous tokens. For example, the token `favorite` attends heavily to earlier tokens like `Italian` and `food`, as indicated by the brighter colors in the heatmap.\n",
    "- The model tends to attend more to the recent past tokens, which is crucial for maintaining context during text generation.\n"
   ]
  },
  {
   "cell_type": "code",
   "execution_count": null,
   "metadata": {},
   "outputs": [],
   "source": [
    "import torch\n",
    "from transformers import GPT2Tokenizer, GPT2Model\n",
    "import matplotlib.pyplot as plt\n",
    "import seaborn as sns\n",
    "\n",
    "model_name = 'gpt2'  # Assicurati di avere il nome del modello corretto\n",
    "model = GPT2Model.from_pretrained(model_name, output_attentions=True)\n",
    "tokenizer = GPT2Tokenizer.from_pretrained(model_name)\n",
    "\n",
    "# Input prompt\n",
    "prompt = \"I love Italian food, my favorite dish is\"\n",
    "\n",
    "# Tokenize the input prompt\n",
    "inputs = tokenizer(prompt, return_tensors='pt')\n",
    "\n",
    "# Generate the model output and retrieve attention weights\n",
    "with torch.no_grad():\n",
    "    outputs = model(**inputs)\n",
    "    attentions = outputs.attentions  # List of attention matrices from all layers\n",
    "\n",
    "# Visualize the attention weights from the last layer\n",
    "attention_matrix = attentions[-1][0][10].cpu().numpy()  # Last layer, first head\n",
    "\n",
    "# Get the tokens for the input prompt\n",
    "tokens = tokenizer.convert_ids_to_tokens(inputs['input_ids'][0])\n",
    "\n",
    "# Plot the attention matrix (last layer, first head) with words as labels\n",
    "plt.figure(figsize=(10, 8))\n",
    "sns.heatmap(attention_matrix, xticklabels=tokens, yticklabels=tokens, cmap='viridis')\n",
    "plt.title('Self-Attention Matrix (Last Layer, Tenth Head)')\n",
    "plt.xlabel('Token')\n",
    "plt.ylabel('Token')\n",
    "plt.show()"
   ]
  },
  {
   "cell_type": "markdown",
   "metadata": {},
   "source": [
    "## 3. Positional Embedding"
   ]
  },
  {
   "cell_type": "markdown",
   "metadata": {},
   "source": [
    "Similarly to what we have seen in the previous exercise (`01-bert`), GPT-2 uses **positional embeddings** to encode the position of tokens in the input sequence. These embeddings are added to the token embeddings to provide the model with information about the order of the tokens. \n",
    "\n",
    "Also in GPT-2, the positional embeddings are learned during training, allowing the model to capture complex patterns in the data."
   ]
  },
  {
   "cell_type": "code",
   "execution_count": null,
   "metadata": {},
   "outputs": [],
   "source": [
    "import matplotlib.pyplot as plt\n",
    "import seaborn as sns\n",
    "from sklearn.metrics.pairwise import cosine_similarity\n",
    "\n",
    "# Extract learned positional embeddings from the model\n",
    "positional_embeddings = model.wpe.weight.detach().cpu().numpy()  # Shape: (1024, 768)\n",
    "\n",
    "# Compute cosine similarity between positional embeddings\n",
    "cosine_sim = cosine_similarity(positional_embeddings)\n",
    "\n",
    "# Plot cosine similarity heatmap\n",
    "plt.figure(figsize=(8, 6))\n",
    "sns.heatmap(cosine_sim, cmap='viridis')\n",
    "plt.title('Cosine Similarity between Positional Embeddings')\n",
    "plt.xlabel('Vector 1')\n",
    "plt.ylabel('Vector 2')\n",
    "plt.show()\n",
    "\n",
    "# Plot cosine similarity for positional embedding 200\n",
    "plt.figure(figsize=(8, 4))\n",
    "plt.plot(cosine_sim[200], label='Cosine similarity for Vector 200')\n",
    "plt.xlabel('Vector 1')\n",
    "plt.ylabel('Cosine Similarity')\n",
    "plt.title('Cosine Similarity of Positional Embedding 200')\n",
    "plt.legend()\n",
    "plt.show()"
   ]
  },
  {
   "cell_type": "markdown",
   "metadata": {},
   "source": [
    "## 4. Sampling Methods"
   ]
  },
  {
   "cell_type": "markdown",
   "metadata": {},
   "source": [
    "### **Implementing Sampling Methods:**"
   ]
  },
  {
   "cell_type": "markdown",
   "metadata": {},
   "source": [
    "In this exercise, we will explore various **sampling methods** used for text generation in GPT-2. Each sampling method determines how the model selects the next token when generating text. \n",
    "\n",
    "GPT-2 produces a probability distribution over possible tokens for each position in the sequence. The different sampling strategies allow us to choose how we sample from this distribution."
   ]
  },
  {
   "cell_type": "code",
   "execution_count": null,
   "metadata": {},
   "outputs": [],
   "source": [
    "import torch\n",
    "import torch.nn.functional as F\n",
    "from transformers import GPT2Tokenizer, GPT2LMHeadModel\n",
    "\n",
    "# Load pre-trained GPT-2 model and tokenizer\n",
    "model_name = 'gpt2'\n",
    "tokenizer = GPT2Tokenizer.from_pretrained(model_name)\n",
    "model = GPT2LMHeadModel.from_pretrained(model_name)\n",
    "\n",
    "# Set the pad token to eos token\n",
    "tokenizer.pad_token = tokenizer.eos_token\n",
    "\n",
    "# Set the model to evaluation mode\n",
    "model.eval()\n",
    "\n",
    "# Input prompt\n",
    "prompt = \"I had called upon my friend, Mr. Sherlock Holmes, one day in the autumn of last year and found him in deep conversation with a very stout, florid-faced, elderly gentleman with fiery red hair.\"\n",
    "\n",
    "# Tokenize the input prompt\n",
    "inputs = tokenizer(prompt, return_tensors='pt', padding=True, truncation=True)\n",
    "input_ids = inputs['input_ids']\n",
    "attention_mask = inputs['attention_mask']\n",
    "input_length = input_ids.shape[-1]\n",
    "\n",
    "# Function to return only the generated part\n",
    "def get_generated_text(output, input_length):\n",
    "    generated_text = tokenizer.decode(output[0], skip_special_tokens=True)\n",
    "    return generated_text[input_length-16:].strip() # TODO: Why I have to subtract 16 to get all the token's output?\n",
    "\n",
    "# Generate and return text using each sampling method\n",
    "max_length = 100  # Max tokens to generate"
   ]
  },
  {
   "cell_type": "markdown",
   "metadata": {},
   "source": [
    "1. **Greedy Sampling**: Always selects the token with the highest probability at each step."
   ]
  },
  {
   "cell_type": "code",
   "execution_count": null,
   "metadata": {},
   "outputs": [],
   "source": [
    "# Greedy Sampling: Pick the token with the highest probability\n",
    "def greedy_sampling(model, input_ids, attention_mask, max_length):\n",
    "    output = input_ids\n",
    "    for _ in range(max_length):\n",
    "        logits = model(output, attention_mask=attention_mask).logits[:, -1, :] # Compute the logits\n",
    "        \n",
    "        next_token = torch.argmax(logits, dim=-1).unsqueeze(-1) # Get the most likely next token\n",
    "        output = torch.cat([output, next_token], dim=-1) # Add the token to the output sequence\n",
    "        attention_mask = torch.cat([attention_mask, torch.ones((1,1), dtype=torch.long)], dim=-1)  # Update attention mask\n",
    "\n",
    "        if next_token.item() == tokenizer.eos_token_id:\n",
    "            break\n",
    "\n",
    "    return output\n",
    "\n",
    "# Greedy Sampling\n",
    "output_greedy = greedy_sampling(model, input_ids, attention_mask, max_length)\n",
    "print(prompt)\n",
    "print(get_generated_text(output_greedy, input_length))"
   ]
  },
  {
   "cell_type": "markdown",
   "metadata": {},
   "source": [
    "2. **Beam Search**: Expands multiple candidate sequences and selects the best based on their cumulative probabilities."
   ]
  },
  {
   "cell_type": "code",
   "execution_count": null,
   "metadata": {},
   "outputs": [],
   "source": [
    "# Beam Search (simple version with fixed beam width)\n",
    "def beam_search(model, input_ids, attention_mask, max_length, beam_width=3):\n",
    "    sequences = [(input_ids, attention_mask, 0)]  # (sequence, attention_mask, score)\n",
    "    for _ in range(max_length):\n",
    "        all_candidates = []\n",
    "        for seq, mask, score in sequences:\n",
    "            logits = model(seq, attention_mask=mask).logits[:, -1, :]\n",
    "\n",
    "            probs = F.softmax(logits, dim=-1)\n",
    "            top_k_probs, top_k_tokens = torch.topk(probs, beam_width, dim=-1) # Get top k tokens\n",
    "\n",
    "            for i in range(beam_width):\n",
    "                candidate_seq = torch.cat([seq, top_k_tokens[:, i].unsqueeze(-1)], dim=-1)  # Add token to sequence\n",
    "                candidate_mask = torch.cat([mask, torch.ones((1, 1), dtype=torch.long)], dim=-1)\n",
    "                candidate = (candidate_seq, candidate_mask, score - torch.log(top_k_probs[:, i]).item()) # Update score\n",
    "                all_candidates.append(candidate) # Add new candidate\n",
    "\n",
    "        # Select top `beam_width` sequences\n",
    "        sequences = sorted(all_candidates, key=lambda x: x[2])[:beam_width]\n",
    "\n",
    "        if sequences[0][0][0, -1].item() == tokenizer.eos_token_id:\n",
    "            break\n",
    "        \n",
    "    return sequences[0][0]\n",
    "\n",
    "# Beam Search\n",
    "output_beam = beam_search(model, input_ids, attention_mask, max_length, beam_width=5)\n",
    "print(prompt)\n",
    "print(get_generated_text(output_beam, input_length))\n"
   ]
  },
  {
   "cell_type": "markdown",
   "metadata": {},
   "source": [
    "3. **Random Sampling**: Samples tokens randomly according to their probabilities."
   ]
  },
  {
   "cell_type": "code",
   "execution_count": null,
   "metadata": {},
   "outputs": [],
   "source": [
    "# Random Sampling: Randomly sample a token from the distribution\n",
    "def random_sampling(model, input_ids, attention_mask, max_length):\n",
    "    output = input_ids\n",
    "    for _ in range(max_length):\n",
    "        logits = model(output, attention_mask=attention_mask).logits[:, -1, :]\n",
    "        \n",
    "        probs = F.softmax(logits, dim=-1)\n",
    "        next_token = torch.multinomial(probs, num_samples=1)  # Sample a token from the probability distribution produced by the model\n",
    "\n",
    "        output = torch.cat([output, next_token], dim=-1)\n",
    "        attention_mask = torch.cat([attention_mask, torch.ones((1, 1), dtype=torch.long)], dim=-1) \n",
    "\n",
    "        if next_token.item() == tokenizer.eos_token_id:\n",
    "            break\n",
    "\n",
    "    return output\n",
    "\n",
    "# Random Sampling\n",
    "output_random = random_sampling(model, input_ids, attention_mask, max_length)\n",
    "print(prompt)\n",
    "print(get_generated_text(output_random, input_length))"
   ]
  },
  {
   "cell_type": "markdown",
   "metadata": {},
   "source": [
    "4. **Top-k Sampling**: Samples only from the top `k` most probable tokens."
   ]
  },
  {
   "cell_type": "code",
   "execution_count": null,
   "metadata": {},
   "outputs": [],
   "source": [
    "# Top-k Sampling: Sample from the top k tokens\n",
    "def top_k_sampling(model, input_ids, attention_mask, max_length, k=50):\n",
    "    output = input_ids\n",
    "    for _ in range(max_length):\n",
    "        logits = model(output, attention_mask=attention_mask).logits[:, -1, :]\n",
    "\n",
    "        top_k_logits, top_k_tokens = torch.topk(logits, k, dim=-1)\n",
    "        top_k_probs = F.softmax(top_k_logits, dim=-1)\n",
    "\n",
    "        sampled_index = torch.multinomial(top_k_probs, num_samples=1)\n",
    "        next_token = top_k_tokens[0, sampled_index] # Select the sampled token\n",
    "\n",
    "        output = torch.cat([output, next_token], dim=-1)\n",
    "        attention_mask = torch.cat([attention_mask, torch.ones((1, 1), dtype=torch.long)], dim=-1)\n",
    "\n",
    "        if next_token.item() == tokenizer.eos_token_id:\n",
    "            break\n",
    "        \n",
    "    return output\n",
    "\n",
    "# Top-k Sampling\n",
    "output_top_k = top_k_sampling(model, input_ids, attention_mask, max_length, k=50)\n",
    "print(prompt)\n",
    "print(get_generated_text(output_top_k, input_length))\n"
   ]
  },
  {
   "cell_type": "markdown",
   "metadata": {},
   "source": [
    "5. **Top-p (Nucleus) Sampling**: Samples from the smallest set of tokens whose cumulative probability exceeds `p`."
   ]
  },
  {
   "cell_type": "code",
   "execution_count": null,
   "metadata": {},
   "outputs": [],
   "source": [
    "# Top-p (Nucleus) Sampling: Sample from the smallest set of tokens whose cumulative probability exceeds p\n",
    "def top_p_sampling(model, input_ids, attention_mask, max_length, p=0.9):\n",
    "    output = input_ids\n",
    "    for _ in range(max_length):\n",
    "        logits = model(output, attention_mask=attention_mask).logits[:, -1, :]\n",
    "        \n",
    "        sorted_logits, sorted_indices = torch.sort(logits, descending=True)\n",
    "        cumulative_probs = torch.cumsum(F.softmax(sorted_logits, dim=-1), dim=-1) # Cumulative Distribution Function (CDF)\n",
    "        top_p_indices = cumulative_probs <= p\n",
    "\n",
    "        if top_p_indices.sum() == 0:  # Fix for when there are no valid top-p indices\n",
    "            top_p_indices[0] = True  # Ensure at least one token is considered\n",
    "\n",
    "        top_p_probs = F.softmax(sorted_logits[top_p_indices], dim=-1) # Recompute the probabilities\n",
    "        sampled_index = torch.multinomial(top_p_probs, num_samples=1) # Sample from the updated distribution\n",
    "\n",
    "        next_token = sorted_indices[top_p_indices][sampled_index]\n",
    "        output = torch.cat([output, next_token.unsqueeze(0)], dim=-1)\n",
    "        attention_mask = torch.cat([attention_mask, torch.ones((1, 1), dtype=torch.long)], dim=-1)  \n",
    "\n",
    "        if next_token.item() == tokenizer.eos_token_id:\n",
    "            break\n",
    "\n",
    "    return output\n",
    "\n",
    "# Top-p (Nucleus) Sampling\n",
    "output_top_p = top_p_sampling(model, input_ids, attention_mask, max_length, p=0.9)\n",
    "print(prompt)\n",
    "print(get_generated_text(output_top_p, input_length))"
   ]
  },
  {
   "cell_type": "markdown",
   "metadata": {},
   "source": [
    "6. **Temperature Scaling**: Adjusts the randomness of the token selection by scaling the probability distribution."
   ]
  },
  {
   "cell_type": "code",
   "execution_count": null,
   "metadata": {},
   "outputs": [],
   "source": [
    "# Temperature Scaling: Adjust the randomness of predictions by scaling the logits\n",
    "def temperature_sampling(model, input_ids, attention_mask, max_length, temperature=0.7):\n",
    "    output = input_ids\n",
    "    for _ in range(max_length):\n",
    "        logits = model(output, attention_mask=attention_mask).logits[:, -1, :]\n",
    "        \n",
    "        logits = logits / temperature # Scale the logits by the temperature parameter\n",
    "        probs = F.softmax(logits, dim=-1)\n",
    "\n",
    "        next_token = torch.multinomial(probs, num_samples=1)\n",
    "        output = torch.cat([output, next_token], dim=-1)\n",
    "        attention_mask = torch.cat([attention_mask, torch.ones((1, 1), dtype=torch.long)], dim=-1)\n",
    "\n",
    "        if next_token.item() == tokenizer.eos_token_id:\n",
    "            break\n",
    "\n",
    "    return output\n",
    "\n",
    "# Temperature Sampling\n",
    "output_temperature = temperature_sampling(model, input_ids, attention_mask, max_length, temperature=0.7)\n",
    "print(prompt)\n",
    "print(get_generated_text(output_temperature, input_length))"
   ]
  },
  {
   "cell_type": "markdown",
   "metadata": {},
   "source": [
    "### **Using Pre-Implemented Sampling Methods**"
   ]
  },
  {
   "cell_type": "markdown",
   "metadata": {},
   "source": [
    "The Hugging Face `transformers` library offers built-in implementations for a variety of sampling methods used in text generation , such as the one we have just implemented, through the `generate()` function."
   ]
  },
  {
   "cell_type": "code",
   "execution_count": null,
   "metadata": {},
   "outputs": [],
   "source": [
    "# Function to generate text using various sampling methods\n",
    "def generate_text(model, input_ids, attention_mask, max_length, method, **kwargs):\n",
    "    if method == 'greedy':\n",
    "        return model.generate(input_ids, attention_mask=attention_mask, max_length=max_length, pad_token_id=tokenizer.eos_token_id)\n",
    "    \n",
    "    elif method == 'beam':\n",
    "        return model.generate(input_ids, attention_mask=attention_mask, max_length=max_length, num_beams=kwargs.get('num_beams', 3), early_stopping=True, pad_token_id=tokenizer.eos_token_id)\n",
    "    \n",
    "    elif method == 'random':\n",
    "        return model.generate(input_ids, attention_mask=attention_mask, max_length=max_length, do_sample=True, pad_token_id=tokenizer.eos_token_id)\n",
    "    \n",
    "    elif method == 'top_k':\n",
    "        return model.generate(input_ids, attention_mask=attention_mask, max_length=max_length, do_sample=True, top_k=kwargs.get('top_k', 50), pad_token_id=tokenizer.eos_token_id)\n",
    "    \n",
    "    elif method == 'top_p':\n",
    "        return model.generate(input_ids, attention_mask=attention_mask, max_length=max_length, do_sample=True, top_p=kwargs.get('top_p', 0.9), pad_token_id=tokenizer.eos_token_id)\n",
    "    \n",
    "    elif method == 'temperature':\n",
    "        return model.generate(input_ids, attention_mask=attention_mask, max_length=max_length, do_sample=True, temperature=kwargs.get('temperature', 0.7), pad_token_id=tokenizer.eos_token_id)\n",
    "\n",
    "# Generate text using each sampling method\n",
    "max_length = 200  # Increased max_length to generate more tokens\n",
    "\n",
    "# Function to print only the generated part\n",
    "def print_generated_text(output, input_length):\n",
    "    generated_text = tokenizer.decode(output[0], skip_special_tokens=True)\n",
    "    print(generated_text[input_length:].strip())\n",
    "\n",
    "# Get the length of the input prompt in tokens\n",
    "input_length = len(tokenizer.encode(prompt, add_special_tokens=False))\n",
    "\n",
    "# Greedy Sampling\n",
    "output_greedy = generate_text(model, inputs['input_ids'], inputs['attention_mask'], max_length, 'greedy')\n",
    "print(\"Greedy Sampling:\")\n",
    "print_generated_text(output_greedy, input_length)\n",
    "\n",
    "# Beam Search\n",
    "output_beam = generate_text(model, inputs['input_ids'], inputs['attention_mask'], max_length, 'beam', num_beams=5)\n",
    "print(\"\\nBeam Search:\")\n",
    "print_generated_text(output_beam, input_length)\n",
    "\n",
    "# Random Sampling\n",
    "output_random = generate_text(model, inputs['input_ids'], inputs['attention_mask'], max_length, 'random')\n",
    "print(\"\\nRandom Sampling:\")\n",
    "print_generated_text(output_random, input_length)\n",
    "\n",
    "# Top-k Sampling\n",
    "k = 50\n",
    "output_top_k = generate_text(model, inputs['input_ids'], inputs['attention_mask'], max_length, 'top_k', top_k=k)\n",
    "print(f\"\\nTop-{k} Sampling:\")\n",
    "print_generated_text(output_top_k, input_length)\n",
    "\n",
    "# Top-p (Nucleus) Sampling\n",
    "p = 0.9\n",
    "output_top_p = generate_text(model, inputs['input_ids'], inputs['attention_mask'], max_length, 'top_p', top_p=p)\n",
    "print(f\"\\nTop-{p} (Nucleus) Sampling:\")\n",
    "print_generated_text(output_top_p, input_length)\n",
    "\n",
    "# Temperature Scaling\n",
    "temperature = 0.7\n",
    "output_temperature = generate_text(model, inputs['input_ids'], inputs['attention_mask'], max_length, 'temperature', temperature=temperature)\n",
    "print(f\"\\nTemperature Sampling ({temperature}):\")\n",
    "print_generated_text(output_temperature, input_length)"
   ]
  },
  {
   "cell_type": "markdown",
   "metadata": {},
   "source": [
    "## 5. Fine-Tuning and Inference"
   ]
  }
 ],
 "metadata": {
  "kernelspec": {
   "display_name": "claudio",
   "language": "python",
   "name": "python3"
  },
  "language_info": {
   "codemirror_mode": {
    "name": "ipython",
    "version": 3
   },
   "file_extension": ".py",
   "mimetype": "text/x-python",
   "name": "python",
   "nbconvert_exporter": "python",
   "pygments_lexer": "ipython3",
   "version": "3.12.2"
  }
 },
 "nbformat": 4,
 "nbformat_minor": 2
}
